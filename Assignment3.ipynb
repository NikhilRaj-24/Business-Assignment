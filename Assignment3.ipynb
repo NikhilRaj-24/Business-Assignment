{
 "cells": [
  {
   "cell_type": "code",
   "execution_count": 1,
   "metadata": {},
   "outputs": [
    {
     "name": "stdout",
     "output_type": "stream",
     "text": [
      "Number of observations for departure delays: 38\n"
     ]
    }
   ],
   "source": [
    "import pandas as pd\n",
    "\n",
    "file_path = \"BUS-to-NYC.txt\" \n",
    "data = pd.read_csv(file_path)\n",
    "\n",
    "# Count the number of observations\n",
    "num_observations = data.shape[0]\n",
    "print(f\"Number of observations for departure delays: {num_observations}\")"
   ]
  },
  {
   "cell_type": "markdown",
   "metadata": {},
   "source": [
    "We are working with the Bus to New York City dataset from small-big-data.com. To find the total observations, we use a python function named shape() for finding the total number of rows in our dataset."
   ]
  },
  {
   "cell_type": "code",
   "execution_count": 2,
   "metadata": {},
   "outputs": [
    {
     "name": "stdout",
     "output_type": "stream",
     "text": [
      "Mean departure delay: 12.32 minutes\n"
     ]
    }
   ],
   "source": [
    "# Calculate the mean for departure delays\n",
    "mean_departure_delays = data[\"Late\"].mean()\n",
    "print(f\"Mean departure delay: {mean_departure_delays:.2f} minutes\")\n"
   ]
  },
  {
   "cell_type": "markdown",
   "metadata": {},
   "source": [
    "We use the late column to find the mean in depatured delays. So we find that the mean depature delay is 12.32 mins."
   ]
  },
  {
   "cell_type": "code",
   "execution_count": 3,
   "metadata": {},
   "outputs": [
    {
     "name": "stdout",
     "output_type": "stream",
     "text": [
      "Median departure delay: 7.50 minutes\n"
     ]
    }
   ],
   "source": [
    "# Calculate the median for departure delays\n",
    "median_departure_delays = data[\"Late\"].median()\n",
    "print(f\"Median departure delay: {median_departure_delays:.2f} minutes\")"
   ]
  },
  {
   "cell_type": "markdown",
   "metadata": {},
   "source": [
    "We again use the late column in the data to find the median in the data which is used to display the median/middle/center. The function median() is used find the median of a column. So we can see that the median depature delay is 7.50 mins."
   ]
  },
  {
   "cell_type": "code",
   "execution_count": 4,
   "metadata": {},
   "outputs": [
    {
     "name": "stdout",
     "output_type": "stream",
     "text": [
      "Standard deviation of departure delays: 14.70 minutes\n"
     ]
    }
   ],
   "source": [
    "std_dev_departure_delays = data[\"Late\"].std()\n",
    "print(f\"Standard deviation of departure delays: {std_dev_departure_delays:.2f} minutes\")"
   ]
  },
  {
   "cell_type": "markdown",
   "metadata": {},
   "source": [
    "So, the inference is that the standard deviation of departure delays in depature delays is 14.70 minutes."
   ]
  },
  {
   "cell_type": "code",
   "execution_count": 5,
   "metadata": {},
   "outputs": [
    {
     "name": "stdout",
     "output_type": "stream",
     "text": [
      "Range of departure delays: 63.00 minutes\n"
     ]
    }
   ],
   "source": [
    "# Calculate the range for departure delays\n",
    "range_departure_delays = data[\"Late\"].max() - data[\"Late\"].min()\n",
    "print(f\"Range of departure delays: {range_departure_delays:.2f} minutes\")"
   ]
  },
  {
   "cell_type": "markdown",
   "metadata": {},
   "source": [
    "We know the range formula is Max-Min. So, the range of departure delays is 63 minutes. We calculated it using the Late column and we use the python functions min() and max () to find the minimum and maximum values in the column."
   ]
  },
  {
   "cell_type": "code",
   "execution_count": 6,
   "metadata": {},
   "outputs": [
    {
     "name": "stdout",
     "output_type": "stream",
     "text": [
      "Skewness of departure delays: 1.56\n"
     ]
    }
   ],
   "source": [
    "from scipy.stats import skew\n",
    "skewness_departure_delays = skew(data[\"Late\"].dropna())\n",
    "print(f\"Skewness of departure delays: {skewness_departure_delays:.2f}\")"
   ]
  },
  {
   "cell_type": "markdown",
   "metadata": {},
   "source": [
    "We first use dropna function in python to remove any existing missing values in our dataset. Then from scipy.stats module, we import skew function to find the skewness of our data. We find that the skewness of our data is 1.56 which is Positive, Right-Skewed."
   ]
  },
  {
   "cell_type": "markdown",
   "metadata": {},
   "source": [
    "Let us visualize and see now"
   ]
  },
  {
   "cell_type": "code",
   "execution_count": 8,
   "metadata": {},
   "outputs": [
    {
     "data": {
      "image/png": "[encoded data removed]",
      "text/plain": [
       "<Figure size 800x500 with 1 Axes>"
      ]
     },
     "metadata": {},
     "output_type": "display_data"
    }
   ],
   "source": [
    "import pandas as pd\n",
    "import matplotlib.pyplot as plt\n",
    "import seaborn as sns\n",
    "\n",
    "plt.figure(figsize=(8, 5))\n",
    "sns.boxplot(x=data[\"Late\"].dropna(), color=\"lightgreen\")\n",
    "plt.title(\"Box Plot of Departure Delays\")\n",
    "plt.xlabel(\"Departure Delays (minutes)\")\n",
    "plt.show()\n"
   ]
  },
  {
   "cell_type": "markdown",
   "metadata": {},
   "source": [
    "As said earlier, we can confirm with this visualization it is positively skewed."
   ]
  },
  {
   "cell_type": "code",
   "execution_count": null,
   "metadata": {},
   "outputs": [],
   "source": []
  }
 ],
 "metadata": {
  "kernelspec": {
   "display_name": "Python 3 (ipykernel)",
   "language": "python",
   "name": "python3"
  },
  "language_info": {
   "codemirror_mode": {
    "name": "ipython",
    "version": 3
   },
   "file_extension": ".py",
   "mimetype": "text/x-python",
   "name": "python",
   "nbconvert_exporter": "python",
   "pygments_lexer": "ipython3",
   "version": "3.11.3"
  }
 },
 "nbformat": 4,
 "nbformat_minor": 2
}
